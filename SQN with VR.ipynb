{
 "cells": [
  {
   "cell_type": "code",
   "execution_count": 1,
   "metadata": {},
   "outputs": [],
   "source": [
    "import autograd\n",
    "import autograd.numpy as np\n",
    "import math"
   ]
  },
  {
   "cell_type": "code",
   "execution_count": 2,
   "metadata": {},
   "outputs": [],
   "source": [
    "class robust_LR:\n",
    "    '''\n",
    "        Consider the robust linear regression problem.\n",
    "        \n",
    "        f(x) = 1 / n sum(l(b_i - a_i^T x)), where l(x) = log(x^2/2 + 1)\n",
    "    '''\n",
    "    def __init__(self, data):\n",
    "        # data structure is 2d narray, where each row is one data point and the last column is the label\n",
    "        self.data = data\n",
    "        self.n = data.shape[0]\n",
    "        self.dim = data.shape[1] - 1\n",
    "        self.A = data[:, :-1]\n",
    "        self.b = data[:, -1:]\n",
    "        \n",
    "    def func_value(self, x):\n",
    "        n = self.n\n",
    "        A = self.A\n",
    "        b = self.b\n",
    "        sum_loss = 0\n",
    "        for i in range(n):\n",
    "            a_i = A[i, :]\n",
    "            b_i = b[i, :]\n",
    "            y_i = b_i - np.dot(a_i, x)\n",
    "            sum_loss = sum_loss + np.log(y_i**2 / 2 + 1)\n",
    "        return sum_loss / n\n",
    "    \n",
    "    def full_gradient(self, x):\n",
    "        dfdx = autograd.grad(self.func_value)\n",
    "        return dfdx(x)\n",
    "    \n",
    "    def sample_gradient(self, x_eval):\n",
    "        n = self.n\n",
    "        A = self.A\n",
    "        b = self.b\n",
    "        gradient_list = []\n",
    "        for i in range(n):\n",
    "            a_i = A[i, :]\n",
    "            b_i = b[i, :]\n",
    "            sample_loss = lambda x: np.log((b_i - np.dot(a_i, x))**2 / 2 + 1)\n",
    "            gradient_i = autograd.grad(sample_loss)\n",
    "            gradient_i_eval = gradient_i(x_eval)\n",
    "            gradient_list.append(gradient_i_eval)\n",
    "            \n",
    "        return gradient_list\n",
    "    \n",
    "    def batch_gradient(self, x, batch_size):\n",
    "        '''\n",
    "            return the list of mini-batch gradients evaluated at point x with the batch-size = batch_size\n",
    "        '''\n",
    "        n = self.n\n",
    "        gradient_list = self.sample_gradient(x)\n",
    "        all_gradients = np.asarray(gradient_list)\n",
    "        # generate shuffled data\n",
    "        permutation = list(np.random.permutation(self.n))\n",
    "        shuffled_gradients = all_gradients[permutation, :]\n",
    "        \n",
    "        num_batches = math.floor(self.n / batch_size)\n",
    "        \n",
    "        mini_batches = []\n",
    "        for i in range(num_batches):\n",
    "            mini_batch_grad = shuffled_gradients[i * batch_size:(i + 1) * batch_size, :]\n",
    "            mini_batches.append(mini_batch_grad)\n",
    "            \n",
    "        if n % batch_size != 0:\n",
    "            mini_batches.append(shuffled_gradient[num_batches * batch_size:, :])\n",
    "            \n",
    "        return mini_batches\n",
    "    \n",
    "    def minibatch_grad(self, x_eval, batch_size, batch_i):\n",
    "        # return the mini-batch gradient evaluated at x_eval with the i-th batch\n",
    "        n = self.n\n",
    "        all_gradients = np.asarray(self.sample_gradient(x_eval))\n",
    "        \n",
    "        batch_grad = all_gradients[batch_i * batch_size:(batch_i + 1) * batch_size, :]\n",
    "        curr_minibatch_grad = np.sum(batch_grad, axis=0) / batch_grad.shape[0]\n",
    "        return curr_minibatch_grad"
   ]
  },
  {
   "cell_type": "code",
   "execution_count": 76,
   "metadata": {},
   "outputs": [],
   "source": [
    "def SL_BFGS(H_prev, curr_batch_grad, prev_batch_grad, x_curr, x_prev, q, w):\n",
    "    '''\n",
    "        Generate positive definite H matrices\n",
    "        Hyperparameters: \n",
    "                q is some scalar in (0, 1)\n",
    "                w is some positive scalar\n",
    "    '''\n",
    "    dim = H_prev.shape[0]\n",
    "    y = curr_batch_grad - prev_batch_grad\n",
    "    s = x_curr - x_prev\n",
    "    B_prev = np.linalg.inv(H_prev)\n",
    "    s_B_prev_s = np.dot(np.dot(B_prev, s), s)\n",
    "    \n",
    "    if np.dot(s, y) < q * s_B_prev_s:\n",
    "        theta = (1 - q) * s_B_prev_s / (s_B_prev_s - np.dot(s, y))\n",
    "    else:\n",
    "        theta = 1\n",
    "    \n",
    "    y_bar = w * (theta * y + (1 - theta) * np.dot(B_prev, s))\n",
    "    rho = 1 / np.dot(s, y_bar)\n",
    "    s_2d = s[:, np.newaxis]\n",
    "    y_bar_2d = y_bar[:, np.newaxis]\n",
    "    \n",
    "    H = np.dot(np.dot(np.eye(dim) - rho * np.dot(s_2d, y_bar_2d.T), H_prev), np.eye(dim) - rho * np.dot(y_bar_2d, s_2d.T)) + rho * np.dot(s_2d, s_2d.T)\n",
    "    \n",
    "    return H\n",
    "    \n",
    "        "
   ]
  },
  {
   "cell_type": "code",
   "execution_count": 77,
   "metadata": {},
   "outputs": [],
   "source": [
    "def clipped_SQN(objFunc, x_start, H_start, batch_S1, batch_S2, K, r, L_0, L_1, epsilon, h_c, lambda_M):\n",
    "    '''\n",
    "        Implementation of Clipped Stochastic Quasi-Newton method\n",
    "    '''\n",
    "    n = objFunc.n\n",
    "    \n",
    "    num_batches_S1 = math.ceil(n / batch_S1)\n",
    "    num_batches_S2 = math.ceil(n / batch_S2)\n",
    "    \n",
    "    x = np.copy(x_start)\n",
    "    x_prev = np.copy(x)\n",
    "    v = 0\n",
    "    H = np.copy(H_start)\n",
    "    \n",
    "    \n",
    "    batch_S1_count = 0\n",
    "    batch_S2_count = 0\n",
    "    \n",
    "    x_trajectory = [x]\n",
    "    loss_traj = [objFunc.func_value(x)]\n",
    "    for k in range(K):\n",
    "        if k % r == 0:\n",
    "            current_grad = objFunc.minibatch_grad(x, batch_S1, batch_S1_count % num_batches_S1)\n",
    "            prev_grad = objFunc.minibatch_grad(x_prev, batch_S1, batch_S1_count % num_batches_S1)\n",
    "            v = current_grad\n",
    "            batch_S1_count = batch_S1_count + 1\n",
    "        else:\n",
    "            current_grad = objFunc.minibatch_grad(x, batch_S2, batch_S2_count % num_batches_S2)\n",
    "            prev_grad = objFunc.minibatch_grad(x_prev, batch_S2, batch_S2_count % num_batches_S2)\n",
    "            v = v + current_grad - prev_grad\n",
    "            batch_S2_count += 1\n",
    "        \n",
    "        x_prev = np.copy(x)\n",
    "        h_c_bar = h_c / (lambda_M ** 2)\n",
    "        v_norm = np.linalg.norm(v)\n",
    "        eta_choice = h_c_bar * np.array([1 / (2 * L_0), epsilon / (L_0 * v_norm), epsilon / (L_1 * v_norm**2)])\n",
    "        eta = np.min(eta_choice)\n",
    "        x = x - eta * np.dot(H, v)\n",
    "        H = SL_BFGS(H, current_grad, prev_grad, x, x_prev, 0.5, 1.0)\n",
    "        x_trajectory.append(x)\n",
    "        loss_traj.append(objFunc.func_value(x))\n",
    "    return x_trajectory, loss_traj"
   ]
  },
  {
   "cell_type": "code",
   "execution_count": 163,
   "metadata": {},
   "outputs": [],
   "source": [
    "def SQN(objFunc, x_start, H_start, batch_size, K, L, lambda_m, lambda_M, epsilon):\n",
    "    '''\n",
    "        Implementation of Stochastic Quasi-Newton method\n",
    "    '''\n",
    "    n = objFunc.n\n",
    "    num_batches = math.ceil(n / batch_size)\n",
    "    \n",
    "    x = np.copy(x_start)\n",
    "    x_prev = np.copy(x_start)\n",
    "    H = np.copy(H_start)\n",
    "    \n",
    "    batch_count = 0\n",
    "    x_trajectory = [x]\n",
    "    loss_traj = [objFunc.func_value(x)]\n",
    "    \n",
    "    for k in range(K):\n",
    "        curr_grad = objFunc.minibatch_grad(x, batch_size, batch_count % num_batches)\n",
    "        prev_grad = objFunc.minibatch_grad(x_prev, batch_size, batch_count % num_batches)\n",
    "        batch_count += 1\n",
    "        \n",
    "        x_prev = np.copy(x)\n",
    "        eta = epsilon * lambda_m / ( L * lambda_M**2)\n",
    "        x = x - eta * np.dot(H, x)\n",
    "        H = SL_BFGS(H, curr_grad, prev_grad, x, x_prev, 0.5, 1.0)\n",
    "        x_trajectory.append(x)\n",
    "        loss_traj.append(objFunc.func_value(x))\n",
    "        \n",
    "    return x_trajectory, loss_traj\n",
    "        "
   ]
  },
  {
   "cell_type": "code",
   "execution_count": 79,
   "metadata": {},
   "outputs": [],
   "source": [
    "def minibatch_SGD(objFunc, x_start, batch_size, K, L, epsilon):\n",
    "    '''\n",
    "        Implementation of mini-batch Stochastic Gradient Descent\n",
    "    '''\n",
    "    n = objFunc.n\n",
    "    num_batches = math.ceil(n / batch_size)\n",
    "    batch_count = 0\n",
    "    \n",
    "    x = np.copy(x_start)\n",
    "    \n",
    "    x_trajectory = [x]\n",
    "    loss_traj = [objFunc.func_value(x)]\n",
    "    \n",
    "    for k in range(K):\n",
    "        curr_grad = objFunc.minibatch_grad(x, batch_size, batch_count % num_batches)\n",
    "        eta = epsilon / L\n",
    "        x = x - eta * curr_grad\n",
    "        x_trajectory.append(x)\n",
    "        loss_traj.append(objFunc.func_value(x))\n",
    "        \n",
    "    return x_trajectory, loss_traj"
   ]
  },
  {
   "cell_type": "code",
   "execution_count": 80,
   "metadata": {},
   "outputs": [],
   "source": [
    "def Spider(objFunc, x_start, batch_S1, batch_S2, K, r, L, epsilon, n_0):\n",
    "    '''\n",
    "        Implementation of Spider\n",
    "    '''\n",
    "    n = objFunc.n\n",
    "    \n",
    "    num_batches_S1 = math.ceil(n / batch_S1)\n",
    "    num_batches_S2 = math.ceil(n / batch_S2)\n",
    "    \n",
    "    x = np.copy(x_start)\n",
    "    x_prev = np.copy(x)\n",
    "    v = 0\n",
    "    \n",
    "    \n",
    "    batch_S1_count = 0\n",
    "    batch_S2_count = 0\n",
    "    \n",
    "    x_trajectory = [x]\n",
    "    loss_traj = [objFunc.func_value(x)]\n",
    "    for k in range(K):\n",
    "        if k % r == 0:\n",
    "            current_grad = objFunc.minibatch_grad(x, batch_S1, batch_S1_count % num_batches_S1)\n",
    "            prev_grad = objFunc.minibatch_grad(x_prev, batch_S1, batch_S1_count % num_batches_S1)\n",
    "            v = current_grad\n",
    "            batch_S1_count = batch_S1_count + 1\n",
    "        else:\n",
    "            current_grad = objFunc.minibatch_grad(x, batch_S2, batch_S2_count % num_batches_S2)\n",
    "            prev_grad = objFunc.minibatch_grad(x_prev, batch_S2, batch_S2_count % num_batches_S2)\n",
    "            v = v + current_grad - prev_grad\n",
    "            batch_S2_count += 1\n",
    "        \n",
    "        \n",
    "        x_prev = np.copy(x)\n",
    "        eta_choice = np.array([1 / (2*L), epsilon / (L * np.linalg.norm(v))])\n",
    "        eta = np.min(eta_choice) / n_0\n",
    "        x = x - eta * v\n",
    "        x_trajectory.append(x)\n",
    "        loss_traj.append(objFunc.func_value(x))\n",
    "        \n",
    "    return x_trajectory, loss_traj"
   ]
  },
  {
   "cell_type": "code",
   "execution_count": 81,
   "metadata": {},
   "outputs": [],
   "source": [
    "def Clipped_Spider(objFunc, x_start, batch_S1, batch_S2, K, r, L_0, L_1, epsilon):\n",
    "    '''\n",
    "        Implementation of Clipped-Spider\n",
    "    '''\n",
    "    n = objFunc.n\n",
    "    \n",
    "    num_batches_S1 = math.ceil(n / batch_S1)\n",
    "    num_batches_S2 = math.ceil(n / batch_S2)\n",
    "    \n",
    "    x = np.copy(x_start)\n",
    "    x_prev = np.copy(x)\n",
    "    v = 0\n",
    "    \n",
    "    batch_S1_count = 0\n",
    "    batch_S2_count = 0\n",
    "    \n",
    "    x_trajectory = [x]\n",
    "    loss_traj = [objFunc.func_value(x)]\n",
    "    for k in range(K):\n",
    "        if k % r == 0:\n",
    "            current_grad = objFunc.minibatch_grad(x, batch_S1, batch_S1_count % num_batches_S1)\n",
    "            prev_grad = objFunc.minibatch_grad(x_prev, batch_S1, batch_S1_count % num_batches_S1)\n",
    "            v = current_grad\n",
    "            batch_S1_count = batch_S1_count + 1\n",
    "        else:\n",
    "            current_grad = objFunc.minibatch_grad(x, batch_S2, batch_S2_count % num_batches_S2)\n",
    "            prev_grad = objFunc.minibatch_grad(x_prev, batch_S2, batch_S2_count % num_batches_S2)\n",
    "            v = v + current_grad - prev_grad\n",
    "            batch_S2_count += 1\n",
    "        \n",
    "        x_prev = np.copy(x)\n",
    "        eta_choice = np.array([1 / 2 * L_0, epsilon / (L_0 * np.linalg.norm(v)), epsilon / (L_1 * np.linalg.norm(v)**2)])\n",
    "        eta = np.min(eta_choice)\n",
    "        x = x - eta * v\n",
    "        x_trajectory.append(x)\n",
    "        loss_traj.append(objFunc.func_value(x))\n",
    "    return x_trajectory, loss_traj"
   ]
  },
  {
   "cell_type": "code",
   "execution_count": 9,
   "metadata": {},
   "outputs": [],
   "source": [
    "def generate_data(n, dim, nonzero_prob):\n",
    "    data_A = np.random.uniform(low=0.0, high=1.0, size=(n, dim))\n",
    "    data_b = np.zeros((1, n))\n",
    "    num_zero_entry = int(dim * (1 - nonzero_prob))\n",
    "    for i in range(n):\n",
    "        permutation = np.random.permutation(dim)\n",
    "        permutation_cut = permutation[:num_zero_entry]\n",
    "        data_A[i, permutation_cut] = 0.0\n",
    "        u = np.random.uniform(low=-1.0, high=1.0, size=dim)\n",
    "        data_b[:, i] = np.sign(np.dot(data_A[i, :], u))\n",
    "        \n",
    "    data = np.concatenate((data_A, data_b.T), axis=1)\n",
    "    return data"
   ]
  },
  {
   "cell_type": "code",
   "execution_count": 13,
   "metadata": {},
   "outputs": [],
   "source": [
    "'''\n",
    "    Experiment: synthetic dataset\n",
    "'''\n",
    "\n",
    "# Generate data set\n",
    "n = 5000  # num of data points\n",
    "dim = 20  # num of features\n",
    "nonzero_prob = 0.3  # prob for num of nonzero elements\n",
    "data_syn = generate_data(n, dim, nonzero_prob)\n",
    "\n",
    "# create robust linear regression problem\n",
    "objFunc = robust_LR(data_syn)\n",
    "\n",
    "# common parameter\n",
    "epsilon = 0.01\n",
    "x_start = np.random.uniform(low=-1.0, high=1.0, size=dim)"
   ]
  },
  {
   "cell_type": "code",
   "execution_count": 15,
   "metadata": {},
   "outputs": [],
   "source": [
    "from matplotlib import pyplot as plt"
   ]
  },
  {
   "cell_type": "code",
   "execution_count": 60,
   "metadata": {},
   "outputs": [],
   "source": [
    "'''\n",
    "    Clipped Stochastic Quasi-Newton method\n",
    "'''\n",
    "H_start = 0.1 * np.eye(dim)\n",
    "h_c = 1.0\n",
    "lambda_M = 5\n",
    "batch_S1 = math.ceil(0.1 / (epsilon**2))\n",
    "batch_S2 = math.ceil(2 * h_c**2 / epsilon)\n",
    "r = math.ceil(1 / epsilon)\n",
    "L_0 = 5.0\n",
    "L_1 = 5.0\n",
    "# K = math.ceil(2 * L_0 * lambda_M**2 * 2 / ((epsilon * h_c)**2))\n",
    "K = int(1500)\n",
    "\n",
    "x_ClippSQN, f_ClippSQN = clipped_SQN(objFunc, x_start, H_start, batch_S1, batch_S2, K, r, L_0, L_1, epsilon, h_c, lambda_M)\n"
   ]
  },
  {
   "cell_type": "code",
   "execution_count": 61,
   "metadata": {},
   "outputs": [
    {
     "data": {
      "text/plain": [
       "[<matplotlib.lines.Line2D at 0x7fd2d1999b90>]"
      ]
     },
     "execution_count": 61,
     "metadata": {},
     "output_type": "execute_result"
    },
    {
     "data": {
      "image/png": "[encoded data removed]",
      "text/plain": [
       "<Figure size 432x288 with 1 Axes>"
      ]
     },
     "metadata": {
      "needs_background": "light"
     },
     "output_type": "display_data"
    }
   ],
   "source": [
    "fig = plt.figure()\n",
    "plt.plot(f_ClippSQN)"
   ]
  },
  {
   "cell_type": "code",
   "execution_count": 70,
   "metadata": {},
   "outputs": [],
   "source": [
    "'''\n",
    "    Stochastic Quasi-Newton method\n",
    "'''\n",
    "lambda_m = 0.5\n",
    "x_SQN, f_SQN = SQN(objFunc, x_start, H_start, int(10), K, L_0, lambda_m, lambda_M, epsilon)"
   ]
  },
  {
   "cell_type": "code",
   "execution_count": 22,
   "metadata": {},
   "outputs": [],
   "source": [
    "'''\n",
    "    SGD\n",
    "'''\n",
    "x_SGD, f_SGD = minibatch_SGD(objFunc, x_start, int(10), K, L_0, epsilon)"
   ]
  },
  {
   "cell_type": "code",
   "execution_count": 67,
   "metadata": {},
   "outputs": [],
   "source": [
    "'''\n",
    "    Spider\n",
    "'''\n",
    "x_Spider, f_Spider = Spider(objFunc, x_start, batch_S1, batch_S2, K, r, L_0, epsilon, 1.2)"
   ]
  },
  {
   "cell_type": "code",
   "execution_count": 27,
   "metadata": {},
   "outputs": [],
   "source": [
    "'''\n",
    "    Clipped Spider\n",
    "'''\n",
    "x_ClipSpider, f_ClipSpider = Clipped_Spider(objFunc, x_start, batch_S1, batch_S2, K, r, L_0, L_1, epsilon)"
   ]
  },
  {
   "cell_type": "code",
   "execution_count": 112,
   "metadata": {},
   "outputs": [
    {
     "name": "stderr",
     "output_type": "stream",
     "text": [
      "The PostScript backend does not support transparency; partially transparent artists will be rendered opaque.\n",
      "The PostScript backend does not support transparency; partially transparent artists will be rendered opaque.\n"
     ]
    },
    {
     "data": {
      "image/png": "[encoded data removed]",
      "text/plain": [
       "<Figure size 432x288 with 1 Axes>"
      ]
     },
     "metadata": {
      "needs_background": "light"
     },
     "output_type": "display_data"
    }
   ],
   "source": [
    "plt.plot(f_ClippSQN, 'r')\n",
    "plt.plot(f_SQN, 'b')\n",
    "plt.plot(f_SGD, 'y')\n",
    "plt.plot(f_Spider, 'm')\n",
    "plt.plot(f_ClipSpider, 'c')\n",
    "plt.xlim([0, 1100])\n",
    "plt.legend(['Clipped SQN (ours)', 'SdLBFGS', 'mini-batch SGD','Spider', '$(L_0, L_1)$-Spider'])\n",
    "plt.xlabel('Number of iterations')\n",
    "plt.ylabel('Training error $F(x_k)$')\n",
    "plt.savefig('robustLR_training_loss_3.eps')"
   ]
  },
  {
   "cell_type": "code",
   "execution_count": 151,
   "metadata": {},
   "outputs": [],
   "source": [
    "class NC_logistic_regression:\n",
    "    '''\n",
    "        Consider the non-convex logistic regression problem.\n",
    "        \n",
    "        f(x) = 1 / n sum(l(b_i, a_i^T x)), where l(x, y) = x * log(y) + y * log(x) + 0.1 * sum(x_j^2 / (1 + x_j^2))\n",
    "    '''\n",
    "    def __init__(self, data):\n",
    "        # data structure is 2d narray, where each row is one data point and the last column is the label\n",
    "        self.data = data\n",
    "        self.n = data.shape[0]\n",
    "        self.dim = data.shape[1] - 1\n",
    "        self.A = data[:, :-1]\n",
    "        self.b = data[:, -1:]\n",
    "        \n",
    "    def func_value(self, x):\n",
    "        n = self.n\n",
    "        A = self.A\n",
    "        b = self.b\n",
    "        sum_loss = 0\n",
    "        for i in range(n):\n",
    "            a_i = A[i, :]\n",
    "            b_i = b[i, :]\n",
    "            sum_loss = sum_loss + b_i * np.log(1.0 / (1.0 + np.exp(-np.dot(a_i, x)))) + (2 - b_i) * np.log(1.0 / (1.0 + np.exp(np.dot(a_i, x)))) # + 0.2 * np.sum(x * x / (1.0 + x * x)) / n\n",
    "        return -sum_loss / n\n",
    "    \n",
    "    def full_gradient(self, x):\n",
    "        dfdx = autograd.grad(self.func_value)\n",
    "        return dfdx(x)\n",
    "    \n",
    "    def sample_gradient(self, x_eval):\n",
    "        n = self.n\n",
    "        A = self.A\n",
    "        b = self.b\n",
    "        gradient_list = []\n",
    "        for i in range(n):\n",
    "            a_i = A[i, :]\n",
    "            b_i = b[i, :]\n",
    "            sample_loss = lambda x: -b_i * np.log(1.0 / (1.0 + np.exp(-np.dot(a_i, x)))) - (2 - b_i) * np.log(1.0 / (1.0 + np.exp(np.dot(a_i, x)))) # + 0.2 * np.sum(x * x / (1.0 + x * x)) / n\n",
    "            gradient_i = autograd.grad(sample_loss)\n",
    "            gradient_i_eval = gradient_i(x_eval)\n",
    "            gradient_list.append(gradient_i_eval)\n",
    "            \n",
    "        return gradient_list\n",
    "    \n",
    "    def batch_gradient(self, x, batch_size):\n",
    "        '''\n",
    "            return the list of mini-batch gradients evaluated at point x with the batch-size = batch_size\n",
    "        '''\n",
    "        n = self.n\n",
    "        gradient_list = self.sample_gradient(x)\n",
    "        all_gradients = np.asarray(gradient_list)\n",
    "        # generate shuffled data\n",
    "        permutation = list(np.random.permutation(self.n))\n",
    "        shuffled_gradients = all_gradients[permutation, :]\n",
    "        \n",
    "        num_batches = math.floor(self.n / batch_size)\n",
    "        \n",
    "        mini_batches = []\n",
    "        for i in range(num_batches):\n",
    "            mini_batch_grad = shuffled_gradients[i * batch_size:(i + 1) * batch_size, :]\n",
    "            mini_batches.append(mini_batch_grad)\n",
    "            \n",
    "        if n % batch_size != 0:\n",
    "            mini_batches.append(shuffled_gradient[num_batches * batch_size:, :])\n",
    "            \n",
    "        return mini_batches\n",
    "    \n",
    "    def minibatch_grad(self, x_eval, batch_size, batch_i):\n",
    "        # return the mini-batch gradient evaluated at x_eval with the i-th batch\n",
    "        n = self.n\n",
    "        all_gradients = np.asarray(self.sample_gradient(x_eval))\n",
    "        \n",
    "        batch_grad = all_gradients[batch_i * batch_size:(batch_i + 1) * batch_size, :]\n",
    "        curr_minibatch_grad = np.sum(batch_grad, axis=0) / batch_grad.shape[0]\n",
    "        return curr_minibatch_grad"
   ]
  },
  {
   "cell_type": "code",
   "execution_count": 128,
   "metadata": {},
   "outputs": [],
   "source": [
    "class NC_SVM:\n",
    "    '''\n",
    "        Consider the non-convex SVM.\n",
    "        \n",
    "        f(x) = 1 / n sum(1 - tanh(bi * ai^T x) + t x^T x / n),\n",
    "    '''\n",
    "    def __init__(self, data):\n",
    "        # data structure is 2d narray, where each row is one data point and the last column is the label\n",
    "        self.data = data\n",
    "        self.n = data.shape[0]\n",
    "        self.dim = data.shape[1] - 1\n",
    "        self.A = data[:, :-1]\n",
    "        self.b = data[:, -1:]\n",
    "        \n",
    "    def func_value(self, x):\n",
    "        n = self.n\n",
    "        A = self.A\n",
    "        b = self.b\n",
    "        sum_loss = 0\n",
    "        for i in range(n):\n",
    "            a_i = A[i, :]\n",
    "            b_i = b[i, :]\n",
    "            sum_loss = sum_loss + (1 - np.tanh(b_i * np.dot(a_i, x))) + 0.1 * np.dot(x, x) / n\n",
    "        return sum_loss / n\n",
    "    \n",
    "    def full_gradient(self, x):\n",
    "        dfdx = autograd.grad(self.func_value)\n",
    "        return dfdx(x)\n",
    "    \n",
    "    def sample_gradient(self, x_eval):\n",
    "        n = self.n\n",
    "        A = self.A\n",
    "        b = self.b\n",
    "        gradient_list = []\n",
    "        for i in range(n):\n",
    "            a_i = A[i, :]\n",
    "            b_i = b[i, :]\n",
    "            sample_loss = lambda x: (1 - np.tanh(b_i * np.dot(a_i, x))) + 0.1 * np.dot(x, x) / n\n",
    "            gradient_i = autograd.grad(sample_loss)\n",
    "            gradient_i_eval = gradient_i(x_eval)\n",
    "            gradient_list.append(gradient_i_eval)\n",
    "            \n",
    "        return gradient_list\n",
    "    \n",
    "    def batch_gradient(self, x, batch_size):\n",
    "        '''\n",
    "            return the list of mini-batch gradients evaluated at point x with the batch-size = batch_size\n",
    "        '''\n",
    "        n = self.n\n",
    "        gradient_list = self.sample_gradient(x)\n",
    "        all_gradients = np.asarray(gradient_list)\n",
    "        # generate shuffled data\n",
    "        permutation = list(np.random.permutation(self.n))\n",
    "        shuffled_gradients = all_gradients[permutation, :]\n",
    "        \n",
    "        num_batches = math.floor(self.n / batch_size)\n",
    "        \n",
    "        mini_batches = []\n",
    "        for i in range(num_batches):\n",
    "            mini_batch_grad = shuffled_gradients[i * batch_size:(i + 1) * batch_size, :]\n",
    "            mini_batches.append(mini_batch_grad)\n",
    "            \n",
    "        if n % batch_size != 0:\n",
    "            mini_batches.append(shuffled_gradient[num_batches * batch_size:, :])\n",
    "            \n",
    "        return mini_batches\n",
    "    \n",
    "    def minibatch_grad(self, x_eval, batch_size, batch_i):\n",
    "        # return the mini-batch gradient evaluated at x_eval with the i-th batch\n",
    "        n = self.n\n",
    "        all_gradients = np.asarray(self.sample_gradient(x_eval))\n",
    "        \n",
    "        batch_grad = all_gradients[batch_i * batch_size:(batch_i + 1) * batch_size, :]\n",
    "        curr_minibatch_grad = np.sum(batch_grad, axis=0) / batch_grad.shape[0]\n",
    "        return curr_minibatch_grad"
   ]
  },
  {
   "cell_type": "code",
   "execution_count": 129,
   "metadata": {},
   "outputs": [
    {
     "data": {
      "text/plain": [
       "1.7000000000000002"
      ]
     },
     "execution_count": 129,
     "metadata": {},
     "output_type": "execute_result"
    }
   ],
   "source": [
    "abc = np.array([2, 3])\n",
    "np.sum(abc * abc / (abc * abc + 1))"
   ]
  },
  {
   "cell_type": "code",
   "execution_count": 152,
   "metadata": {},
   "outputs": [],
   "source": [
    "objFunc_NClog = NC_logistic_regression(data_syn)"
   ]
  },
  {
   "cell_type": "code",
   "execution_count": 153,
   "metadata": {},
   "outputs": [
    {
     "data": {
      "text/plain": [
       "array([1.62677621])"
      ]
     },
     "execution_count": 153,
     "metadata": {},
     "output_type": "execute_result"
    }
   ],
   "source": [
    "objFunc_NClog.func_value(x_start)"
   ]
  },
  {
   "cell_type": "code",
   "execution_count": 172,
   "metadata": {},
   "outputs": [],
   "source": [
    "H_start = 0.1 * np.eye(dim)\n",
    "h_c = 1.0\n",
    "lambda_M = 5\n",
    "batch_S1 = 1000\n",
    "batch_S2 = 200\n",
    "r = math.ceil(1 / epsilon)\n",
    "L_0 = 5.0\n",
    "L_1 = 1.0\n",
    "# K = math.ceil(2 * L_0 * lambda_M**2 * 2 / ((epsilon * h_c)**2))\n",
    "K = int(1500)\n",
    "\n",
    "x_ClippSQN_log, f_ClippSQN_log = clipped_SQN(objFunc_NClog, x_start, H_start, batch_S1, batch_S2, K, r, L_0, L_1, epsilon, h_c, lambda_M)\n"
   ]
  },
  {
   "cell_type": "code",
   "execution_count": 173,
   "metadata": {},
   "outputs": [
    {
     "data": {
      "text/plain": [
       "[<matplotlib.lines.Line2D at 0x7fd2d27cf990>]"
      ]
     },
     "execution_count": 173,
     "metadata": {},
     "output_type": "execute_result"
    },
    {
     "data": {
      "image/png": "[encoded data removed]",
      "text/plain": [
       "<Figure size 432x288 with 1 Axes>"
      ]
     },
     "metadata": {
      "needs_background": "light"
     },
     "output_type": "display_data"
    }
   ],
   "source": [
    "plt.plot(f_ClippSQN_log)"
   ]
  },
  {
   "cell_type": "code",
   "execution_count": 188,
   "metadata": {},
   "outputs": [],
   "source": [
    "'''\n",
    "    Stochastic Quasi-Newton method\n",
    "'''\n",
    "lambda_m = 0.5\n",
    "x_SQN_log, f_SQN_log = SQN(objFunc_NClog, x_start, H_start, int(10), K, L_0, lambda_m, lambda_M, 3 * epsilon)"
   ]
  },
  {
   "cell_type": "code",
   "execution_count": 175,
   "metadata": {},
   "outputs": [],
   "source": [
    "'''\n",
    "    SGD\n",
    "'''\n",
    "x_SGD_log, f_SGD_log = minibatch_SGD(objFunc_NClog, x_start, int(10), K, L_0, 0.1 * epsilon)"
   ]
  },
  {
   "cell_type": "code",
   "execution_count": 176,
   "metadata": {},
   "outputs": [],
   "source": [
    "'''\n",
    "    Spider\n",
    "'''\n",
    "x_Spider_log, f_Spider_log = Spider(objFunc_NClog, x_start, batch_S1, batch_S2, K, r, L_0, 0.1 * epsilon, 1.2)"
   ]
  },
  {
   "cell_type": "code",
   "execution_count": 177,
   "metadata": {},
   "outputs": [],
   "source": [
    "'''\n",
    "    Clipped Spider\n",
    "'''\n",
    "x_ClipSpider_log, f_ClipSpider_log = Clipped_Spider(objFunc_NClog, x_start, batch_S1, batch_S2, K, r, L_0, L_1, 0.1 * epsilon)"
   ]
  },
  {
   "cell_type": "code",
   "execution_count": 189,
   "metadata": {},
   "outputs": [
    {
     "name": "stderr",
     "output_type": "stream",
     "text": [
      "The PostScript backend does not support transparency; partially transparent artists will be rendered opaque.\n",
      "The PostScript backend does not support transparency; partially transparent artists will be rendered opaque.\n"
     ]
    },
    {
     "data": {
      "image/png": "[encoded data removed]",
      "text/plain": [
       "<Figure size 432x288 with 1 Axes>"
      ]
     },
     "metadata": {
      "needs_background": "light"
     },
     "output_type": "display_data"
    }
   ],
   "source": [
    "plt.plot(f_ClippSQN_log, 'r')\n",
    "plt.plot(f_SQN_log, 'b')\n",
    "plt.plot(f_SGD_log, 'y')\n",
    "plt.plot(f_Spider_log, 'm')\n",
    "plt.plot(f_ClipSpider_log, 'c')\n",
    "plt.xlim([0, K])\n",
    "plt.legend(['Clipped SQN (ours)', 'SdLBFGS', 'mini-batch SGD','Spider', '$(L_0, L_1)$-Spider'])\n",
    "plt.xlabel('Number of iterations')\n",
    "plt.ylabel('Training loss $F(x_k)$')\n",
    "plt.savefig('NC_logistic_training_loss_3.eps')"
   ]
  },
  {
   "cell_type": "code",
   "execution_count": null,
   "metadata": {},
   "outputs": [],
   "source": []
  }
 ],
 "metadata": {
  "kernelspec": {
   "display_name": "Python 3",
   "language": "python",
   "name": "python3"
  },
  "language_info": {
   "codemirror_mode": {
    "name": "ipython",
    "version": 3
   },
   "file_extension": ".py",
   "mimetype": "text/x-python",
   "name": "python",
   "nbconvert_exporter": "python",
   "pygments_lexer": "ipython3",
   "version": "3.7.4"
  }
 },
 "nbformat": 4,
 "nbformat_minor": 2
}
